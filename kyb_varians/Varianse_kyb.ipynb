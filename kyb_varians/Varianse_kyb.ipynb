{
 "cells": [
  {
   "cell_type": "code",
   "id": "b9f5883e",
   "metadata": {
    "ExecuteTime": {
     "end_time": "2024-11-19T07:35:28.036102Z",
     "start_time": "2024-11-19T07:35:26.822659Z"
    }
   },
   "source": [
    "import pandas as pd \n",
    "import numpy as np\n",
    "accel_scaling = 100\n",
    "accel_data = pd.read_csv(\"0-steady-state_accel.csv\")*(9.80665)\n",
    "variance_ax = accel_data[\"ax\"].var()\n",
    "variance_ay = accel_data[\"ay\"].var()\n",
    "variance_az = accel_data[\"az\"].var()\n",
    "var_accel_array=np.array([variance_ax,variance_ay,variance_az])\n",
    "scaled_accel_array= var_accel_array*accel_scaling\n",
    "print(scaled_accel_array)"
   ],
   "outputs": [
    {
     "name": "stdout",
     "output_type": "stream",
     "text": [
      "[0.97862826 0.4180581  0.13828615]\n"
     ]
    }
   ],
   "execution_count": 1
  },
  {
   "cell_type": "code",
   "id": "7cec6861",
   "metadata": {
    "ExecuteTime": {
     "end_time": "2024-11-19T07:35:28.178611Z",
     "start_time": "2024-11-19T07:35:28.156213Z"
    }
   },
   "source": [
    "f_scaling = 250\n",
    "wrench_data = pd.read_csv(\"0-steady-state_wrench.csv\")\n",
    "variance_fx = wrench_data[\"fx\"].var()\n",
    "variance_fy = wrench_data[\"fy\"].var()\n",
    "variance_fz = wrench_data[\"fz\"].var()\n",
    "var_force_array=np.array([variance_fx,variance_fy,variance_fz])\n",
    "scaled_force_array= var_force_array*f_scaling\n",
    "print(scaled_force_array)"
   ],
   "outputs": [
    {
     "name": "stdout",
     "output_type": "stream",
     "text": [
      "[0.30894993 0.11104961 1.40843833]\n"
     ]
    }
   ],
   "execution_count": 2
  },
  {
   "cell_type": "code",
   "id": "5af651cd",
   "metadata": {
    "ExecuteTime": {
     "end_time": "2024-11-19T07:35:28.743351Z",
     "start_time": "2024-11-19T07:35:28.735494Z"
    }
   },
   "source": [
    "t_scaling = 5000\n",
    "variance_tx = wrench_data[\"tx\"].var()\n",
    "variance_ty = wrench_data[\"ty\"].var()\n",
    "variance_tz = wrench_data[\"tz\"].var()\n",
    "var_t_array=np.array([variance_tx,variance_ty,variance_tz])\n",
    "scaled_t_array= var_t_array*t_scaling\n",
    "print(scaled_t_array)"
   ],
   "outputs": [
    {
     "name": "stdout",
     "output_type": "stream",
     "text": [
      "[0.00676394 0.01746809 0.00033167]\n"
     ]
    }
   ],
   "execution_count": 3
  },
  {
   "cell_type": "code",
   "execution_count": null,
   "id": "3ddef4e4",
   "metadata": {},
   "outputs": [],
   "source": []
  },
  {
   "cell_type": "code",
   "execution_count": null,
   "id": "4ce0477d",
   "metadata": {},
   "outputs": [],
   "source": []
  }
 ],
 "metadata": {
  "kernelspec": {
   "display_name": "Python 3 (ipykernel)",
   "language": "python",
   "name": "python3"
  },
  "language_info": {
   "codemirror_mode": {
    "name": "ipython",
    "version": 3
   },
   "file_extension": ".py",
   "mimetype": "text/x-python",
   "name": "python",
   "nbconvert_exporter": "python",
   "pygments_lexer": "ipython3",
   "version": "3.9.12"
  }
 },
 "nbformat": 4,
 "nbformat_minor": 5
}
